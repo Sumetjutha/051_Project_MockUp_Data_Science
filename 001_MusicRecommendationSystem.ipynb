{
 "cells": [
  {
   "cell_type": "code",
   "execution_count": 1,
   "metadata": {},
   "outputs": [],
   "source": [
    "import requests\n",
    "import base64"
   ]
  },
  {
   "cell_type": "code",
   "execution_count": 2,
   "metadata": {},
   "outputs": [],
   "source": [
    "# Replace with your own Client ID and Client Secret\n",
    "CLIENT_ID = '4c18cc62e28c4cdd86ec9fc6c385a320'\n",
    "CLIENT_SECRET = '38bd995c9ed5493ab12455a86ab951b8'"
   ]
  },
  {
   "cell_type": "code",
   "execution_count": 3,
   "metadata": {},
   "outputs": [],
   "source": [
    "# Base64 encode the client ID and client secret\n",
    "client_credentials = f\"{CLIENT_ID}:{CLIENT_SECRET}\"\n",
    "client_credentials_base64 = base64.b64encode(client_credentials.encode())"
   ]
  },
  {
   "cell_type": "code",
   "execution_count": 4,
   "metadata": {},
   "outputs": [],
   "source": [
    "# Request the access token\n",
    "token_url = 'https://accounts.spotify.com/api/token'\n",
    "headers = {\n",
    "    'Authorization': f'Basic {client_credentials_base64.decode()}'\n",
    "}\n",
    "data = {\n",
    "    'grant_type': 'client_credentials'\n",
    "}\n",
    "response = requests.post(token_url, data=data, headers=headers)"
   ]
  },
  {
   "cell_type": "code",
   "execution_count": 5,
   "metadata": {},
   "outputs": [
    {
     "name": "stdout",
     "output_type": "stream",
     "text": [
      "Access token obtained successfully.\n"
     ]
    }
   ],
   "source": [
    "if response.status_code == 200:\n",
    "    access_token = response.json()['access_token']\n",
    "    print(\"Access token obtained successfully.\")\n",
    "else:\n",
    "    print(\"Error obtaining access token.\")\n",
    "    exit()"
   ]
  },
  {
   "cell_type": "code",
   "execution_count": 6,
   "metadata": {},
   "outputs": [],
   "source": [
    "import pandas as pd\n",
    "import spotipy\n",
    "from spotipy.oauth2 import SpotifyOAuth"
   ]
  },
  {
   "cell_type": "code",
   "execution_count": 7,
   "metadata": {},
   "outputs": [],
   "source": [
    "def get_trending_playlist_data(playlist_id, access_token):\n",
    "    # Set up Spotipy with the access token\n",
    "    sp = spotipy.Spotify(auth=access_token)\n",
    "\n",
    "    # Get the tracks from the playlist\n",
    "    playlist_tracks = sp.playlist_tracks(playlist_id, fields='items(track(id, name, artists, album(id, name)))')\n",
    "\n",
    "    # Extract relevant information and store in a list of dictionaries\n",
    "    music_data = []\n",
    "    for track_info in playlist_tracks['items']:\n",
    "        track = track_info['track']\n",
    "        track_name = track['name']\n",
    "        artists = ', '.join([artist['name'] for artist in track['artists']])\n",
    "        album_name = track['album']['name']\n",
    "        album_id = track['album']['id']\n",
    "        track_id = track['id']\n",
    "\n",
    "        # Get audio features for the track\n",
    "        audio_features = sp.audio_features(track_id)[0] if track_id != 'Not available' else None\n",
    "\n",
    "        # Get release date of the album\n",
    "        try:\n",
    "            album_info = sp.album(album_id) if album_id != 'Not available' else None\n",
    "            release_date = album_info['release_date'] if album_info else None\n",
    "        except:\n",
    "            release_date = None\n",
    "\n",
    "        # Get popularity of the track\n",
    "        try:\n",
    "            track_info = sp.track(track_id) if track_id != 'Not available' else None\n",
    "            popularity = track_info['popularity'] if track_info else None\n",
    "        except:\n",
    "            popularity = None\n",
    "\n",
    "        # Add additional track information to the track data\n",
    "        track_data = {\n",
    "            'Track Name': track_name,\n",
    "            'Artists': artists,\n",
    "            'Album Name': album_name,\n",
    "            'Album ID': album_id,\n",
    "            'Track ID': track_id,\n",
    "            'Popularity': popularity,\n",
    "            'Release Date': release_date,\n",
    "            'Duration (ms)': audio_features['duration_ms'] if audio_features else None,\n",
    "            'Explicit': track_info.get('explicit', None),\n",
    "            'External URLs': track_info.get('external_urls', {}).get('spotify', None),\n",
    "            'Danceability': audio_features['danceability'] if audio_features else None,\n",
    "            'Energy': audio_features['energy'] if audio_features else None,\n",
    "            'Key': audio_features['key'] if audio_features else None,\n",
    "            'Loudness': audio_features['loudness'] if audio_features else None,\n",
    "            'Mode': audio_features['mode'] if audio_features else None,\n",
    "            'Speechiness': audio_features['speechiness'] if audio_features else None,\n",
    "            'Acousticness': audio_features['acousticness'] if audio_features else None,\n",
    "            'Instrumentalness': audio_features['instrumentalness'] if audio_features else None,\n",
    "            'Liveness': audio_features['liveness'] if audio_features else None,\n",
    "            'Valence': audio_features['valence'] if audio_features else None,\n",
    "            'Tempo': audio_features['tempo'] if audio_features else None,\n",
    "            # Add more attributes as needed\n",
    "        }\n",
    "\n",
    "        music_data.append(track_data)\n",
    "\n",
    "    # Create a pandas DataFrame from the list of dictionaries\n",
    "    df = pd.DataFrame(music_data)\n",
    "\n",
    "    return df"
   ]
  },
  {
   "cell_type": "code",
   "execution_count": 8,
   "metadata": {},
   "outputs": [],
   "source": [
    "playlist_id = '37i9dQZF1DX76Wlfdnj7AP'"
   ]
  },
  {
   "cell_type": "code",
   "execution_count": 9,
   "metadata": {},
   "outputs": [],
   "source": [
    "# Call the function to get the music data from the playlist and store it in a DataFrame\n",
    "music_df = get_trending_playlist_data(playlist_id, access_token)"
   ]
  },
  {
   "cell_type": "code",
   "execution_count": 10,
   "metadata": {},
   "outputs": [
    {
     "name": "stdout",
     "output_type": "stream",
     "text": [
      "                     Track Name                      Artists  \\\n",
      "0                   Lovin On Me                  Jack Harlow   \n",
      "1                        redrum                    21 Savage   \n",
      "2                      BELLAKEO           Peso Pluma, Anitta   \n",
      "3    FE!N (feat. Playboi Carti)  Travis Scott, Playboi Carti   \n",
      "4                         Prada  cassö, RAYE, D-Block Europe   \n",
      "..                          ...                          ...   \n",
      "95                         BOTH       Tiësto, 21 Savage, BIA   \n",
      "96            MONEY ON THE DASH          Elley Duhé, Whethan   \n",
      "97        Rainfall (Praise You)                    Tom Santa   \n",
      "98  Another Love - Tiësto Remix            Tom Odell, Tiësto   \n",
      "99                     Remember     Becky Hill, David Guetta   \n",
      "\n",
      "                     Album Name                Album ID  \\\n",
      "0                   Lovin On Me  6VCO0fDBGbRW8mCEvV95af   \n",
      "1                american dream  2RRYaYHY7fIIdvFlvgb5vq   \n",
      "2                      BELLAKEO  3VLY9g3CAG1Y5r2eGVEaZ0   \n",
      "3                        UTOPIA  18NOKLkZETa4sWwLMIm0UZ   \n",
      "4                         Prada  5MU0RmBSpoSxOPYBfcobDc   \n",
      "..                          ...                     ...   \n",
      "95                         BOTH  4WithBxkUVDf6Xe0KbTOkL   \n",
      "96            MONEY ON THE DASH  1nlaLDMPSzXL8G5LPBDhwd   \n",
      "97        Rainfall (Praise You)  4VanY5i4E59Mhz52qznJ95   \n",
      "98  Another Love (Tiësto Remix)  1QltVGlNGbK94CKgUsYZGa   \n",
      "99                     Remember  6DHfD3rZapWFmEKX1FNNZF   \n",
      "\n",
      "                  Track ID  Popularity Release Date  Duration (ms)  Explicit  \\\n",
      "0   4xhsWYTOGcal8zt0J161CU          98   2023-11-10         138411      True   \n",
      "1   52eIcoLUM25zbQupAZYoFh          97   2024-01-12         270698      True   \n",
      "2   05WVKTdZhlIMX4qqMLuo0f          95   2023-12-07         197333      True   \n",
      "3   42VsgItocQwOQC3XWZ8JNA          93   2023-07-28         191701      True   \n",
      "4   59NraMJsLaMCVtwXTSia8i          93   2023-08-11         132359      True   \n",
      "..                     ...         ...          ...            ...       ...   \n",
      "95  7mobUfp1aL8A6CdugCMWft          77   2023-08-29         188000     False   \n",
      "96  1p0jBDjxORjYNJyAphBRpE          77   2023-01-20         145667     False   \n",
      "97  1M8t1j3Kv2qp97bdq5q4Vl          77   2022-02-18         166570     False   \n",
      "98  4Et6tUEO7biKxZEfJXpNj1          77   2022-05-13         185366     False   \n",
      "99  4laAKIq9ZxBCwf99rauPYb          77   2021-06-18         160766     False   \n",
      "\n",
      "                                        External URLs  ...  Energy  Key  \\\n",
      "0   https://open.spotify.com/track/4xhsWYTOGcal8zt...  ...   0.558    2   \n",
      "1   https://open.spotify.com/track/52eIcoLUM25zbQu...  ...   0.740    2   \n",
      "2   https://open.spotify.com/track/05WVKTdZhlIMX4q...  ...   0.880    9   \n",
      "3   https://open.spotify.com/track/42VsgItocQwOQC3...  ...   0.882    3   \n",
      "4   https://open.spotify.com/track/59NraMJsLaMCVtw...  ...   0.717    8   \n",
      "..                                                ...  ...     ...  ...   \n",
      "95  https://open.spotify.com/track/7mobUfp1aL8A6Cd...  ...   0.933    5   \n",
      "96  https://open.spotify.com/track/1p0jBDjxORjYNJy...  ...   0.667    8   \n",
      "97  https://open.spotify.com/track/1M8t1j3Kv2qp97b...  ...   0.862    5   \n",
      "98  https://open.spotify.com/track/4Et6tUEO7biKxZE...  ...   0.764    4   \n",
      "99  https://open.spotify.com/track/4laAKIq9ZxBCwf9...  ...   0.862    8   \n",
      "\n",
      "    Loudness  Mode  Speechiness  Acousticness  Instrumentalness  Liveness  \\\n",
      "0     -4.911     1       0.0568       0.00260          0.000002    0.0937   \n",
      "1     -8.445     1       0.0481       0.00529          0.000224    0.5000   \n",
      "2     -2.834     1       0.1010       0.05620          0.060000    0.1530   \n",
      "3     -2.777     0       0.0600       0.03160          0.000000    0.1420   \n",
      "4     -5.804     1       0.0375       0.00100          0.000002    0.1130   \n",
      "..       ...   ...          ...           ...               ...       ...   \n",
      "95    -3.099     0       0.0832       0.02520          0.000025    0.4930   \n",
      "96    -7.126     1       0.0843       0.04390          0.000013    0.1790   \n",
      "97    -5.464     0       0.0606       0.14000          0.009200    0.2520   \n",
      "98    -4.685     0       0.0737       0.08360          0.087100    0.1320   \n",
      "99    -2.903     1       0.0370       0.04100          0.000000    0.0907   \n",
      "\n",
      "    Valence    Tempo  \n",
      "0     0.606  104.983  \n",
      "1     0.246  172.089  \n",
      "2     0.463  180.011  \n",
      "3     0.201  148.038  \n",
      "4     0.422  141.904  \n",
      "..      ...      ...  \n",
      "95    0.523  119.987  \n",
      "96    0.292  120.044  \n",
      "97    0.509  128.039  \n",
      "98    0.473  123.046  \n",
      "99    0.354  123.849  \n",
      "\n",
      "[100 rows x 21 columns]\n"
     ]
    }
   ],
   "source": [
    "# Display the DataFrame\n",
    "print(music_df)"
   ]
  },
  {
   "cell_type": "code",
   "execution_count": 11,
   "metadata": {},
   "outputs": [
    {
     "name": "stdout",
     "output_type": "stream",
     "text": [
      "Track Name          0\n",
      "Artists             0\n",
      "Album Name          0\n",
      "Album ID            0\n",
      "Track ID            0\n",
      "Popularity          0\n",
      "Release Date        0\n",
      "Duration (ms)       0\n",
      "Explicit            0\n",
      "External URLs       0\n",
      "Danceability        0\n",
      "Energy              0\n",
      "Key                 0\n",
      "Loudness            0\n",
      "Mode                0\n",
      "Speechiness         0\n",
      "Acousticness        0\n",
      "Instrumentalness    0\n",
      "Liveness            0\n",
      "Valence             0\n",
      "Tempo               0\n",
      "dtype: int64\n"
     ]
    }
   ],
   "source": [
    "print(music_df.isnull().sum())"
   ]
  },
  {
   "cell_type": "code",
   "execution_count": 12,
   "metadata": {},
   "outputs": [],
   "source": [
    "import pandas as pd\n",
    "import numpy as np\n",
    "from sklearn.model_selection import train_test_split\n",
    "from sklearn.preprocessing import MinMaxScaler\n",
    "from datetime import datetime\n",
    "from sklearn.metrics.pairwise import cosine_similarity\n",
    "\n",
    "data = music_df"
   ]
  },
  {
   "cell_type": "code",
   "execution_count": 13,
   "metadata": {},
   "outputs": [],
   "source": [
    "# Function to calculate weighted popularity scores based on release date\n",
    "def calculate_weighted_popularity(release_date):\n",
    "    # Convert the release date to datetime object\n",
    "    release_date = datetime.strptime(release_date, '%Y-%m-%d')\n",
    "\n",
    "    # Calculate the time span between release date and today's date\n",
    "    time_span = datetime.now() - release_date\n",
    "\n",
    "    # Calculate the weighted popularity score based on time span (e.g., more recent releases have higher weight)\n",
    "    weight = 1 / (time_span.days + 1)\n",
    "    return weight"
   ]
  },
  {
   "cell_type": "code",
   "execution_count": 14,
   "metadata": {},
   "outputs": [],
   "source": [
    "# Normalize the music features using Min-Max scaling\n",
    "scaler = MinMaxScaler()\n",
    "music_features = music_df[['Danceability', 'Energy', 'Key', \n",
    "                           'Loudness', 'Mode', 'Speechiness', 'Acousticness',\n",
    "                           'Instrumentalness', 'Liveness', 'Valence', 'Tempo']].values\n",
    "music_features_scaled = scaler.fit_transform(music_features)"
   ]
  },
  {
   "cell_type": "code",
   "execution_count": 15,
   "metadata": {},
   "outputs": [],
   "source": [
    "# a function to get content-based recommendations based on music features\n",
    "def content_based_recommendations(input_song_name, num_recommendations=5):\n",
    "    if input_song_name not in music_df['Track Name'].values:\n",
    "        print(f\"'{input_song_name}' not found in the dataset. Please enter a valid song name.\")\n",
    "        return\n",
    "\n",
    "    # Get the index of the input song in the music DataFrame\n",
    "    input_song_index = music_df[music_df['Track Name'] == input_song_name].index[0]\n",
    "\n",
    "    # Calculate the similarity scores based on music features (cosine similarity)\n",
    "    similarity_scores = cosine_similarity([music_features_scaled[input_song_index]], music_features_scaled)\n",
    "\n",
    "    # Get the indices of the most similar songs\n",
    "    similar_song_indices = similarity_scores.argsort()[0][::-1][1:num_recommendations + 1]\n",
    "\n",
    "    # Get the names of the most similar songs based on content-based filtering\n",
    "    content_based_recommendations = music_df.iloc[similar_song_indices][['Track Name', 'Artists', 'Album Name', 'Release Date', 'Popularity']]\n",
    "\n",
    "    return content_based_recommendations"
   ]
  },
  {
   "cell_type": "code",
   "execution_count": null,
   "metadata": {},
   "outputs": [],
   "source": [
    "# a function to get hybrid recommendations based on weighted popularity\n",
    "def hybrid_recommendations(input_song_name, num_recommendations=5, alpha=0.5):\n",
    "    if input_song_name not in music_df['Track Name'].values:\n",
    "        print(f\"'{input_song_name}' not found in the dataset. Please enter a valid song name.\")\n",
    "        return\n",
    "\n",
    "    # Get content-based recommendations\n",
    "    content_based_rec = content_based_recommendations(input_song_name, num_recommendations)\n",
    "\n",
    "    # Get the popularity score of the input song\n",
    "    popularity_score = music_df.loc[music_df['Track Name'] == input_song_name, 'Popularity'].values[0]\n",
    "\n",
    "    # Calculate the weighted popularity score\n",
    "    weighted_popularity_score = popularity_score * calculate_weighted_popularity(music_df.loc[music_df['Track Name'] == input_song_name, 'Release Date'].values[0])\n",
    "\n",
    "    # Combine content-based and popularity-based recommendations based on weighted popularity\n",
    "    hybrid_recommendations = content_based_rec\n",
    "    hybrid_recommendations = hybrid_recommendations.append({\n",
    "        'Track Name': input_song_name,\n",
    "        'Artists': music_df.loc[music_df['Track Name'] == input_song_name, 'Artists'].values[0],\n",
    "        'Album Name': music_df.loc[music_df['Track Name'] == input_song_name, 'Album Name'].values[0],\n",
    "        'Release Date': music_df.loc[music_df['Track Name'] == input_song_name, 'Release Date'].values[0],\n",
    "        'Popularity': weighted_popularity_score\n",
    "    }, ignore_index=True)\n",
    "\n",
    "    # Sort the hybrid recommendations based on weighted popularity score\n",
    "    hybrid_recommendations = hybrid_recommendations.sort_values(by='Popularity', ascending=False)\n",
    "\n",
    "    # Remove the input song from the recommendations\n",
    "    hybrid_recommendations = hybrid_recommendations[hybrid_recommendations['Track Name'] != input_song_name]\n",
    "\n",
    "\n",
    "    return hybrid_recommendations"
   ]
  }
 ],
 "metadata": {
  "kernelspec": {
   "display_name": "base",
   "language": "python",
   "name": "python3"
  },
  "language_info": {
   "codemirror_mode": {
    "name": "ipython",
    "version": 3
   },
   "file_extension": ".py",
   "mimetype": "text/x-python",
   "name": "python",
   "nbconvert_exporter": "python",
   "pygments_lexer": "ipython3",
   "version": "3.9.13"
  }
 },
 "nbformat": 4,
 "nbformat_minor": 2
}
